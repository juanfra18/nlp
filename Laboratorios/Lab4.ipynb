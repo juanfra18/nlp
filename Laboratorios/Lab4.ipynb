{
 "cells": [
  {
   "cell_type": "markdown",
   "id": "be9517a5-eb3c-4607-9048-519db7e97981",
   "metadata": {},
   "source": [
    "**Fuentes**\n",
    "- \n"
   ]
  },
  {
   "cell_type": "code",
   "execution_count": 1,
   "id": "45ec5c47-47e5-44ed-aa45-8db177460111",
   "metadata": {
    "tags": []
   },
   "outputs": [
    {
     "name": "stdout",
     "output_type": "stream",
     "text": [
      "showing info https://raw.githubusercontent.com/nltk/nltk_data/gh-pages/index.xml\n"
     ]
    },
    {
     "data": {
      "text/plain": [
       "True"
      ]
     },
     "execution_count": 1,
     "metadata": {},
     "output_type": "execute_result"
    }
   ],
   "source": [
    "import nltk\n",
    "nltk.download()"
   ]
  },
  {
   "cell_type": "code",
   "execution_count": 2,
   "id": "0f48c851-f629-4f4b-a3c3-a6ddec14d6e9",
   "metadata": {
    "tags": []
   },
   "outputs": [
    {
     "name": "stdout",
     "output_type": "stream",
     "text": [
      "*** Introductory Examples for the NLTK Book ***\n",
      "Loading text1, ..., text9 and sent1, ..., sent9\n",
      "Type the name of the text or sentence to view it.\n",
      "Type: 'texts()' or 'sents()' to list the materials.\n",
      "text1: Moby Dick by Herman Melville 1851\n",
      "text2: Sense and Sensibility by Jane Austen 1811\n",
      "text3: The Book of Genesis\n",
      "text4: Inaugural Address Corpus\n",
      "text5: Chat Corpus\n",
      "text6: Monty Python and the Holy Grail\n",
      "text7: Wall Street Journal\n",
      "text8: Personals Corpus\n",
      "text9: The Man Who Was Thursday by G . K . Chesterton 1908\n"
     ]
    }
   ],
   "source": [
    "from nltk.book import *"
   ]
  },
  {
   "cell_type": "code",
   "execution_count": 3,
   "id": "54f67932-dff8-4f9c-a1b4-e33872991f33",
   "metadata": {
    "tags": []
   },
   "outputs": [],
   "source": [
    "from nltk.corpus import wordnet as wn"
   ]
  },
  {
   "cell_type": "code",
   "execution_count": 4,
   "id": "12d24a25-a9e9-4ab4-8732-6cbb6b1c2e2a",
   "metadata": {
    "tags": []
   },
   "outputs": [
    {
     "data": {
      "text/plain": [
       "[Synset('dog.n.01'),\n",
       " Synset('frump.n.01'),\n",
       " Synset('dog.n.03'),\n",
       " Synset('cad.n.01'),\n",
       " Synset('frank.n.02'),\n",
       " Synset('pawl.n.01'),\n",
       " Synset('andiron.n.01'),\n",
       " Synset('chase.v.01')]"
      ]
     },
     "execution_count": 4,
     "metadata": {},
     "output_type": "execute_result"
    }
   ],
   "source": [
    "wn.synsets('dog') #Synsets de dog"
   ]
  },
  {
   "cell_type": "code",
   "execution_count": 5,
   "id": "d74594e8-5910-4ee0-bb46-db7f03323e92",
   "metadata": {
    "tags": []
   },
   "outputs": [
    {
     "data": {
      "text/plain": [
       "[Synset('chase.v.01')]"
      ]
     },
     "execution_count": 5,
     "metadata": {},
     "output_type": "execute_result"
    }
   ],
   "source": [
    "wn.synsets('dog',pos=wn.VERB) #Synsets de verbos asociados con dog"
   ]
  },
  {
   "cell_type": "code",
   "execution_count": 6,
   "id": "57e301e2-5675-46bd-986f-000aec122882",
   "metadata": {
    "tags": []
   },
   "outputs": [
    {
     "name": "stdout",
     "output_type": "stream",
     "text": [
      "Synset('dog.n.01')\n",
      "Synset('frump.n.01')\n",
      "Synset('frump.n.01')\n",
      "True\n"
     ]
    }
   ],
   "source": [
    "#Para ver que frump.n.01 = dog.n.02\n",
    "print(wn.synset('dog.n.01'))\n",
    "print(wn.synset('dog.n.02'))\n",
    "print(wn.synset('frump.n.01'))\n",
    "if wn.synset('dog.n.02') == wn.synset('frump.n.01'):\n",
    "    print(True)"
   ]
  },
  {
   "cell_type": "code",
   "execution_count": 7,
   "id": "91fd780f-bed3-4ee1-8d54-9f72b97f0875",
   "metadata": {
    "tags": []
   },
   "outputs": [
    {
     "name": "stdout",
     "output_type": "stream",
     "text": [
      "a member of the genus Canis (probably descended from the common wolf) that has been domesticated by man since prehistoric times; occurs in many breeds\n",
      "a dull unattractive unpleasant girl or woman\n"
     ]
    }
   ],
   "source": [
    "#Definiciones\n",
    "print(wn.synset('dog.n.01').definition())\n",
    "print(wn.synset('dog.n.02').definition())"
   ]
  },
  {
   "cell_type": "code",
   "execution_count": 8,
   "id": "d3d7f26b-6fd1-4008-afbd-817969588213",
   "metadata": {
    "tags": []
   },
   "outputs": [
    {
     "name": "stdout",
     "output_type": "stream",
     "text": [
      "[Lemma('dog.n.01.dog'), Lemma('dog.n.01.domestic_dog'), Lemma('dog.n.01.Canis_familiaris')]\n",
      "Sinónimos para el segundo sentido de dog:\n",
      "[Lemma('frump.n.01.frump'), Lemma('frump.n.01.dog')]\n"
     ]
    }
   ],
   "source": [
    "#Sinónimos\n",
    "print(wn.synset('dog.n.01').lemmas())\n",
    "print(\"Sinónimos para el segundo sentido de dog:\")\n",
    "print(wn.synset('dog.n.02').lemmas())"
   ]
  },
  {
   "cell_type": "code",
   "execution_count": 9,
   "id": "c8d9ae7b-a723-404a-8bd2-82ae7e64777b",
   "metadata": {
    "tags": []
   },
   "outputs": [
    {
     "name": "stdout",
     "output_type": "stream",
     "text": [
      "1\n",
      "the dog barked all night\n"
     ]
    }
   ],
   "source": [
    "print(len(wn.synset('dog.n.01').examples()))\n",
    "print(wn.synset('dog.n.01').examples()[0])"
   ]
  },
  {
   "cell_type": "code",
   "execution_count": 10,
   "id": "10ea31e7-424e-453a-8b57-5044a255c6da",
   "metadata": {
    "tags": []
   },
   "outputs": [
    {
     "data": {
      "text/plain": [
       "['dog', 'domestic_dog', 'Canis_familiaris']"
      ]
     },
     "execution_count": 10,
     "metadata": {},
     "output_type": "execute_result"
    }
   ],
   "source": [
    "#Lemmas de un synset\n",
    "[lemma.name() for lemma in wn.synset('dog.n.01').lemmas()]"
   ]
  },
  {
   "cell_type": "code",
   "execution_count": 11,
   "id": "5f0e7cf4-d060-4b84-9338-dad791da94a8",
   "metadata": {
    "tags": []
   },
   "outputs": [
    {
     "data": {
      "text/plain": [
       "Synset('dog.n.01')"
      ]
     },
     "execution_count": 11,
     "metadata": {},
     "output_type": "execute_result"
    }
   ],
   "source": [
    "#Synset de un lemma\n",
    "wn.lemma('dog.n.01.domestic_dog').synset()"
   ]
  },
  {
   "cell_type": "markdown",
   "id": "6b85ed94-f119-4fdf-82dd-45fe24479bbf",
   "metadata": {},
   "source": [
    "**Relaciones entre palabras**"
   ]
  },
  {
   "cell_type": "code",
   "execution_count": 12,
   "id": "b37cf787-ad2a-4a4a-825a-78343222795c",
   "metadata": {
    "tags": []
   },
   "outputs": [
    {
     "data": {
      "text/plain": [
       "[Synset('canine.n.02'), Synset('domestic_animal.n.01')]"
      ]
     },
     "execution_count": 12,
     "metadata": {},
     "output_type": "execute_result"
    }
   ],
   "source": [
    "dog = wn.synset('dog.n.01')\n",
    "dog.hypernyms()"
   ]
  },
  {
   "cell_type": "code",
   "execution_count": 13,
   "id": "e4db3134-9b93-4780-8662-cb2409bda22d",
   "metadata": {
    "tags": []
   },
   "outputs": [
    {
     "data": {
      "text/plain": [
       "[Synset('basenji.n.01'),\n",
       " Synset('corgi.n.01'),\n",
       " Synset('cur.n.01'),\n",
       " Synset('dalmatian.n.02'),\n",
       " Synset('great_pyrenees.n.01'),\n",
       " Synset('griffon.n.02'),\n",
       " Synset('hunting_dog.n.01'),\n",
       " Synset('lapdog.n.01'),\n",
       " Synset('leonberg.n.01'),\n",
       " Synset('mexican_hairless.n.01'),\n",
       " Synset('newfoundland.n.01'),\n",
       " Synset('pooch.n.01'),\n",
       " Synset('poodle.n.01'),\n",
       " Synset('pug.n.01'),\n",
       " Synset('puppy.n.01'),\n",
       " Synset('spitz.n.01'),\n",
       " Synset('toy_dog.n.01'),\n",
       " Synset('working_dog.n.01')]"
      ]
     },
     "execution_count": 13,
     "metadata": {},
     "output_type": "execute_result"
    }
   ],
   "source": [
    "dog.hyponyms()"
   ]
  },
  {
   "cell_type": "code",
   "execution_count": 14,
   "id": "dd8ec82e-103f-45ff-9a8a-86dc56c6234c",
   "metadata": {
    "tags": []
   },
   "outputs": [
    {
     "data": {
      "text/plain": [
       "[Lemma('good.a.01.good')]"
      ]
     },
     "execution_count": 14,
     "metadata": {},
     "output_type": "execute_result"
    }
   ],
   "source": [
    "good = wn.synset('good.a.01')\n",
    "good.lemmas()"
   ]
  },
  {
   "cell_type": "code",
   "execution_count": 15,
   "id": "a2bddcb4-f0d5-463f-8b69-c5e6c4f477ec",
   "metadata": {
    "tags": []
   },
   "outputs": [
    {
     "data": {
      "text/plain": [
       "[Lemma('bad.a.01.bad')]"
      ]
     },
     "execution_count": 15,
     "metadata": {},
     "output_type": "execute_result"
    }
   ],
   "source": [
    "g0 = good.lemmas()[0]\n",
    "g0.antonyms()"
   ]
  },
  {
   "cell_type": "code",
   "execution_count": 16,
   "id": "47cfe78d-29f6-41ba-b361-93797ac0aced",
   "metadata": {
    "tags": []
   },
   "outputs": [
    {
     "data": {
      "text/plain": [
       "[Synset('flag.n.07')]"
      ]
     },
     "execution_count": 16,
     "metadata": {},
     "output_type": "execute_result"
    }
   ],
   "source": [
    "dog.part_meronyms()"
   ]
  },
  {
   "cell_type": "code",
   "execution_count": 17,
   "id": "9228868a-9f45-44a1-9e86-aa07cfbfe1dc",
   "metadata": {
    "tags": []
   },
   "outputs": [
    {
     "data": {
      "text/plain": [
       "[]"
      ]
     },
     "execution_count": 17,
     "metadata": {},
     "output_type": "execute_result"
    }
   ],
   "source": [
    "dog.member_meronyms()"
   ]
  },
  {
   "cell_type": "code",
   "execution_count": 18,
   "id": "b2c30097-5e1e-4f5c-a142-d9a28fce7350",
   "metadata": {
    "tags": []
   },
   "outputs": [
    {
     "data": {
      "text/plain": [
       "[]"
      ]
     },
     "execution_count": 18,
     "metadata": {},
     "output_type": "execute_result"
    }
   ],
   "source": [
    "dog.part_holonyms()"
   ]
  },
  {
   "cell_type": "code",
   "execution_count": 19,
   "id": "f73d7d61-7124-4b5c-b4a4-17786ce9614d",
   "metadata": {
    "tags": []
   },
   "outputs": [
    {
     "data": {
      "text/plain": [
       "[Synset('canis.n.01'), Synset('pack.n.06')]"
      ]
     },
     "execution_count": 19,
     "metadata": {},
     "output_type": "execute_result"
    }
   ],
   "source": [
    "dog.member_holonyms()"
   ]
  },
  {
   "cell_type": "code",
   "execution_count": 20,
   "id": "47dfcb43-a26c-44bd-bd75-1cc3e13d79c4",
   "metadata": {
    "tags": []
   },
   "outputs": [
    {
     "name": "stdout",
     "output_type": "stream",
     "text": [
      "a conspicuously marked or shaped tail\n",
      "type genus of the Canidae: domestic and wild dogs; wolves; jackals\n",
      "a group of hunting animals\n"
     ]
    }
   ],
   "source": [
    "for mer in dog.part_meronyms(): #Ver subpartes de perro\n",
    "    print(mer.definition())\n",
    "    \n",
    "for hol in dog.member_holonyms(): #Ver elementos que perro es subparte\n",
    "    print(hol.definition())"
   ]
  },
  {
   "cell_type": "markdown",
   "id": "2788e345-6bc7-4051-aefb-8b80b4e54a14",
   "metadata": {},
   "source": [
    "- Flag es subparte de perro porque es una cola\n",
    "- Perro es subparte de canis porque es el género de animales al que el perro pertenece\n",
    "- Perro es subparte de pack porque significa jauría"
   ]
  },
  {
   "cell_type": "markdown",
   "id": "6e285a52-f4ec-4199-b01f-731a661431f3",
   "metadata": {},
   "source": [
    "**Word Sense Desambiguation**"
   ]
  },
  {
   "cell_type": "markdown",
   "id": "53005ea8-357e-4fe0-8ac0-ecf8370442a2",
   "metadata": {},
   "source": [
    "Pasos del algoritmo de Lesk:\n",
    "- Extraer las palabras (solo las útiles)\n",
    "- Comparar con las diferentes definiciones del diccionario para la palabra dada\n",
    "- Elegir la definición con la mayor cantidad de coincidencias"
   ]
  },
  {
   "cell_type": "markdown",
   "id": "be69f83f-3c5f-447f-8ff5-5c1109459131",
   "metadata": {},
   "source": [
    "Se me ocurren dos sentidos de bank, ambos como sustantivos. El primero es el de entidad financiera, y el segundo un asiento."
   ]
  },
  {
   "cell_type": "code",
   "execution_count": 21,
   "id": "c3f495d2-e212-4b50-8d60-00d5979fc67d",
   "metadata": {
    "tags": []
   },
   "outputs": [
    {
     "data": {
      "text/plain": [
       "[Synset('bank.n.01'),\n",
       " Synset('depository_financial_institution.n.01'),\n",
       " Synset('bank.n.03'),\n",
       " Synset('bank.n.04'),\n",
       " Synset('bank.n.05'),\n",
       " Synset('bank.n.06'),\n",
       " Synset('bank.n.07'),\n",
       " Synset('savings_bank.n.02'),\n",
       " Synset('bank.n.09'),\n",
       " Synset('bank.n.10'),\n",
       " Synset('bank.v.01'),\n",
       " Synset('bank.v.02'),\n",
       " Synset('bank.v.03'),\n",
       " Synset('bank.v.04'),\n",
       " Synset('bank.v.05'),\n",
       " Synset('deposit.v.02'),\n",
       " Synset('bank.v.07'),\n",
       " Synset('trust.v.01')]"
      ]
     },
     "execution_count": 21,
     "metadata": {},
     "output_type": "execute_result"
    }
   ],
   "source": [
    "#Synsets de bank\n",
    "wn.synsets('bank')"
   ]
  },
  {
   "cell_type": "code",
   "execution_count": 22,
   "id": "e5950282-df8a-4569-8d95-ed1a4d8b09d9",
   "metadata": {
    "tags": []
   },
   "outputs": [
    {
     "name": "stdout",
     "output_type": "stream",
     "text": [
      "Hay 10 sentidos de bank como sustantivo\n"
     ]
    }
   ],
   "source": [
    "#Synsets de bank como sustantivo\n",
    "print(f\"Hay {len(wn.synsets('bank',pos=wn.NOUN))} sentidos de bank como sustantivo\")"
   ]
  },
  {
   "cell_type": "code",
   "execution_count": 23,
   "id": "1f0b2e7d-02be-476a-adcd-1b390d3f5fa6",
   "metadata": {
    "tags": []
   },
   "outputs": [
    {
     "data": {
      "text/plain": [
       "'sloping land (especially the slope beside a body of water)'"
      ]
     },
     "execution_count": 23,
     "metadata": {},
     "output_type": "execute_result"
    }
   ],
   "source": [
    "wn.synset('bank.n.01').definition()"
   ]
  },
  {
   "cell_type": "code",
   "execution_count": 24,
   "id": "61e8bff9-f5f3-457d-ac13-a048c03f3450",
   "metadata": {
    "tags": []
   },
   "outputs": [
    {
     "data": {
      "text/plain": [
       "'a financial institution that accepts deposits and channels the money into lending activities'"
      ]
     },
     "execution_count": 24,
     "metadata": {},
     "output_type": "execute_result"
    }
   ],
   "source": [
    "wn.synset('bank.n.02').definition()"
   ]
  },
  {
   "cell_type": "markdown",
   "id": "8dbc37e0-528f-4edc-84d8-0bfacf1d93ee",
   "metadata": {},
   "source": [
    "**El segundo sentido de bank es el correcto en la oración \"The bank can guarantee deposits will eventually cover future tuition costs because it invests in adjustable- rate mortgage securities.\"**"
   ]
  },
  {
   "cell_type": "code",
   "execution_count": 25,
   "id": "409a25b3-82c6-4902-bae2-148b506d7aee",
   "metadata": {
    "tags": []
   },
   "outputs": [
    {
     "name": "stdout",
     "output_type": "stream",
     "text": [
      "Synset('bank.n.05')\n"
     ]
    }
   ],
   "source": [
    "#Algoritmo Lesk\n",
    "from nltk.wsd import lesk\n",
    "from nltk import word_tokenize\n",
    "S = \"The bank can guarantee deposits will eventually cover future tuition costs because it invests in adjustable- rate mortgage securities.\"\n",
    "S_tok = word_tokenize(S)\n",
    "print(lesk(S_tok,'bank','n'))"
   ]
  },
  {
   "cell_type": "markdown",
   "id": "904c05ac-a4a9-4ec6-8de0-d24d34d1add6",
   "metadata": {},
   "source": [
    "Se me ocurre que predice esto porque con el quinto significado hay más coincidencia de palabras con la oración"
   ]
  },
  {
   "cell_type": "code",
   "execution_count": 26,
   "id": "3c8e4be0-3242-4885-acf9-d3c8759623db",
   "metadata": {
    "tags": []
   },
   "outputs": [
    {
     "name": "stdout",
     "output_type": "stream",
     "text": [
      "['a', 'supply', 'or', 'stock', 'held', 'in', 'reserve', 'for', 'future', 'use', '(', 'especially', 'in', 'emergencies', ')']\n",
      "{'future', 'in'}\n",
      "['a', 'financial', 'institution', 'that', 'accepts', 'deposits', 'and', 'channels', 'the', 'money', 'into', 'lending', 'activities']\n",
      "{'deposits'}\n"
     ]
    }
   ],
   "source": [
    "l = word_tokenize(wn.synset('bank.n.05').definition())\n",
    "m = word_tokenize(wn.synset('bank.n.02').definition())\n",
    "k = set(S_tok)\n",
    "\n",
    "print(l)\n",
    "print(k.intersection(l))\n",
    "print(m)\n",
    "print(k.intersection(m))"
   ]
  },
  {
   "cell_type": "code",
   "execution_count": 27,
   "id": "a11cb1f3-c97d-4c31-a5ef-7a05c2d16555",
   "metadata": {
    "tags": []
   },
   "outputs": [
    {
     "name": "stdout",
     "output_type": "stream",
     "text": [
      "Synset('savings_bank.n.02')\n",
      "Synset('mess.n.04')\n",
      "Synset('wear.v.03')\n",
      "Synset('cold.a.01')\n"
     ]
    }
   ],
   "source": [
    "S_1 = \"I went to the bank to deposit some money.\"\n",
    "#Sentido 2 (sustantivo): bank: a financial institution that accepts deposits and channels the money into lending activities\n",
    "S_2 = \"She created a big mess of the birthday cake.\"\n",
    "#Sentido 1 (sustantivo): mess: a state of confusion and disorderliness\n",
    "S_3 = \"In the interest of your safety, please wear your seatbelt.\"\n",
    "#Sentido 1 (verbo): wear: be dressed in\n",
    "S_4 = \"I drank some ice cold water.\"\n",
    "#Sentido 1 (adjetivo): cold: having a low or inadequate temperature or feeling a sensation of coldness or having been made cold by e.g. ice or refrigeration\n",
    "\n",
    "from nltk.wsd import lesk\n",
    "from nltk import word_tokenize\n",
    "\n",
    "print(lesk(word_tokenize(S_1),'bank','n'))\n",
    "print(lesk(word_tokenize(S_2),'mess','n'))\n",
    "print(lesk(word_tokenize(S_3),'wear','v'))\n",
    "print(lesk(word_tokenize(S_4),'cold','a'))"
   ]
  },
  {
   "cell_type": "markdown",
   "id": "be4877f9-bf6f-49c3-9e47-3d34414be046",
   "metadata": {},
   "source": [
    "En este caso tuvo una precisión del 25%, ya que falló con bank, mess y wear"
   ]
  },
  {
   "cell_type": "markdown",
   "id": "be1b2fe2-2776-44fc-ad2d-4d99c15790dd",
   "metadata": {},
   "source": [
    "**Un poco más allá**"
   ]
  },
  {
   "cell_type": "code",
   "execution_count": 28,
   "id": "a3a2e596-0609-4827-af4e-da1200305e5e",
   "metadata": {
    "tags": []
   },
   "outputs": [
    {
     "data": {
      "text/plain": [
       "'dog'"
      ]
     },
     "execution_count": 28,
     "metadata": {},
     "output_type": "execute_result"
    }
   ],
   "source": [
    "from nltk.stem import WordNetLemmatizer\n",
    "wnLemmatizer = WordNetLemmatizer()\n",
    "wnLemmatizer.lemmatize('dogs','n')"
   ]
  },
  {
   "cell_type": "code",
   "execution_count": 29,
   "id": "9a0e04b6-e247-4892-9933-9989eb7db617",
   "metadata": {
    "tags": []
   },
   "outputs": [
    {
     "data": {
      "text/plain": [
       "'walk'"
      ]
     },
     "execution_count": 29,
     "metadata": {},
     "output_type": "execute_result"
    }
   ],
   "source": [
    "wnLemmatizer.lemmatize('walking','v')"
   ]
  },
  {
   "cell_type": "code",
   "execution_count": 30,
   "id": "1e948e78-0ec4-4f84-8207-1073bd6c8bc0",
   "metadata": {
    "tags": []
   },
   "outputs": [
    {
     "data": {
      "text/plain": [
       "'dog'"
      ]
     },
     "execution_count": 30,
     "metadata": {},
     "output_type": "execute_result"
    }
   ],
   "source": [
    "wnLemmatizer.lemmatize('dogs')"
   ]
  },
  {
   "cell_type": "code",
   "execution_count": 31,
   "id": "7ae55e22-5bc1-4213-bd41-9477cf286a9e",
   "metadata": {
    "tags": []
   },
   "outputs": [],
   "source": [
    "from nltk import pos_tag\n",
    "from itertools import product\n",
    "from nltk.stem import WordNetLemmatizer\n",
    "\n",
    "def lemmatize_word_tag(word_tag):\n",
    "    if word_tag[1] != 'JJ':\n",
    "        tag = word_tag[1][0].lower()\n",
    "    else:\n",
    "        tag = 'a'\n",
    "    \n",
    "    return WordNetLemmatizer().lemmatize(word_tag[0],tag)\n",
    "\n",
    "def match(S_tok_1, S_tok_2):\n",
    "    lS_1 = pos_tag(S_tok_1)\n",
    "    lS_2 = pos_tag(S_tok_2)\n",
    "    \n",
    "    return set([lemmatize_word_tag(element[1]) for element in product(lS_1,lS_2) if element[1][1] in ['NN', 'NNS', 'RB', 'JJ', 'VB'] and element[0] == element[1]])"
   ]
  },
  {
   "cell_type": "code",
   "execution_count": 32,
   "id": "e7c1dafe-3ac8-4d1e-8ff3-77520ef65087",
   "metadata": {
    "tags": []
   },
   "outputs": [
    {
     "data": {
      "text/plain": [
       "{'dog', 'walking'}"
      ]
     },
     "execution_count": 32,
     "metadata": {},
     "output_type": "execute_result"
    }
   ],
   "source": [
    "match(word_tokenize(\"The walking dog\"),word_tokenize(\"The walking dog\"))"
   ]
  },
  {
   "cell_type": "code",
   "execution_count": 33,
   "id": "59ac97c9-2158-4751-82cb-93a124ffefa1",
   "metadata": {
    "tags": []
   },
   "outputs": [
    {
     "data": {
      "text/plain": [
       "Synset('depository_financial_institution.n.01')"
      ]
     },
     "execution_count": 33,
     "metadata": {},
     "output_type": "execute_result"
    }
   ],
   "source": [
    "from nltk.corpus import wordnet as wn\n",
    "from nltk import word_tokenize\n",
    "\n",
    "def new_lesk(S_tok, word, tipo):\n",
    "    S_tok = [tok for tok in S_tok if tok != word]\n",
    "    synsets = wn.synsets(word,tipo)\n",
    "    best = synsets[0]\n",
    "    best_match = len(match(S_tok,word_tokenize(best.definition())))\n",
    "    for synset in synsets[1:]:\n",
    "        new_match = len(match(S_tok,word_tokenize(synset.definition())))\n",
    "        if new_match > best_match:\n",
    "            best_match = new_match\n",
    "            best = synset\n",
    "    return best\n",
    "        \n",
    "new_lesk(word_tokenize(\"The bank can guarantee deposits will eventually cover future tuition costs because it invests in adjustable- rate mortgage securities.\"),'bank','n')"
   ]
  },
  {
   "cell_type": "code",
   "execution_count": 34,
   "id": "4abae56c-aa46-407d-a3eb-4fbd8d0ede70",
   "metadata": {
    "tags": []
   },
   "outputs": [
    {
     "name": "stdout",
     "output_type": "stream",
     "text": [
      "Synset('depository_financial_institution.n.01')\n",
      "Synset('mess.n.01')\n",
      "Synset('wear.v.01')\n",
      "Synset('cold.a.01')\n"
     ]
    }
   ],
   "source": [
    "#Casos de prueba\n",
    "print(new_lesk(word_tokenize(\"I went to the bank to deposit some money.\"),\"bank\",\"n\"))\n",
    "print(new_lesk(word_tokenize(\"She created a big mess of the birthday cake.\"),\"mess\",\"n\"))\n",
    "print(new_lesk(word_tokenize(\"In the interest of your safety, please wear your seatbelt.\"),\"wear\",\"v\"))\n",
    "print(new_lesk(word_tokenize(\"I drank some ice cold water.\"),\"cold\",\"a\"))"
   ]
  },
  {
   "cell_type": "markdown",
   "id": "aed526f6-bab6-4b60-a309-87fe61f063df",
   "metadata": {},
   "source": [
    "Ahora, a diferencia del algoritmo lesk clásico, tuvo más precisión (100%)"
   ]
  },
  {
   "cell_type": "code",
   "execution_count": null,
   "id": "cb59282d-35ae-4d02-b318-9c1904b84167",
   "metadata": {},
   "outputs": [],
   "source": []
  }
 ],
 "metadata": {
  "kernelspec": {
   "display_name": "Python [conda env:nlp] *",
   "language": "python",
   "name": "conda-env-nlp-py"
  },
  "language_info": {
   "codemirror_mode": {
    "name": "ipython",
    "version": 3
   },
   "file_extension": ".py",
   "mimetype": "text/x-python",
   "name": "python",
   "nbconvert_exporter": "python",
   "pygments_lexer": "ipython3",
   "version": "3.11.4"
  }
 },
 "nbformat": 4,
 "nbformat_minor": 5
}
