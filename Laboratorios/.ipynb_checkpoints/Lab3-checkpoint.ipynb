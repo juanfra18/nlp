{
 "cells": [
  {
   "cell_type": "markdown",
   "id": "46beb806-d4f6-4125-ba0a-5ade0490a02a",
   "metadata": {},
   "source": [
    "**Fuentes**\n",
    "- https://stackoverflow.com/questions/65552688/how-to-remove-english-and-spanish-stop-words"
   ]
  },
  {
   "cell_type": "code",
   "execution_count": 1,
   "id": "67eb2744-a2bd-4cde-af69-cc1e497f3c4c",
   "metadata": {
    "tags": []
   },
   "outputs": [],
   "source": [
    "#Importar bibliotecas\n",
    "import sklearn\n",
    "import numpy as np\n",
    "import matplotlib.pyplot as plt"
   ]
  },
  {
   "cell_type": "code",
   "execution_count": 2,
   "id": "cc35bcce-46e3-453e-b9d6-a6453e25b839",
   "metadata": {
    "tags": []
   },
   "outputs": [],
   "source": [
    "#Definir datos\n",
    "data = np.array([[1,2],[2,3],[3,4],[4,5],[5,6]])\n",
    "x = data[:,0]\n",
    "y = data[:,1]"
   ]
  },
  {
   "cell_type": "code",
   "execution_count": 3,
   "id": "ed9a3d03-c2b2-4808-820a-cd28f96ac81e",
   "metadata": {
    "tags": []
   },
   "outputs": [
    {
     "data": {
      "image/png": "[encoded data removed]",
      "text/plain": [
       "<Figure size 640x480 with 1 Axes>"
      ]
     },
     "metadata": {},
     "output_type": "display_data"
    }
   ],
   "source": [
    "#Visualizar función\n",
    "plt.scatter(x,y)\n",
    "plt.grid(True)\n",
    "plt.show()"
   ]
  },
  {
   "cell_type": "markdown",
   "id": "9dbf1d47-710c-43ea-be9b-21672790c039",
   "metadata": {},
   "source": [
    "**Preprocesamiento de texto con scikit-learn**"
   ]
  },
  {
   "cell_type": "code",
   "execution_count": 4,
   "id": "1bddbc91-faed-4bfd-83f4-ad9540275549",
   "metadata": {
    "tags": []
   },
   "outputs": [],
   "source": [
    "#Instanciar el CountVectorizer\n",
    "from sklearn.feature_extraction.text import CountVectorizer\n",
    "vectorizer = CountVectorizer(min_df=1)"
   ]
  },
  {
   "cell_type": "code",
   "execution_count": 5,
   "id": "ed8c2061-9c40-42dc-8aeb-e209484df5e7",
   "metadata": {
    "tags": []
   },
   "outputs": [],
   "source": [
    "#Extraer una bolsa de palabras\n",
    "content = [\"How to format my hard disk\", \" Hard disk format problems \"]\n",
    "X = vectorizer.fit_transform(content)"
   ]
  },
  {
   "cell_type": "code",
   "execution_count": 6,
   "id": "2ee6bc06-bc27-44cf-acfe-4a5bc99347e2",
   "metadata": {
    "tags": []
   },
   "outputs": [
    {
     "data": {
      "text/plain": [
       "array(['disk', 'format', 'hard', 'how', 'my', 'problems', 'to'],\n",
       "      dtype=object)"
      ]
     },
     "execution_count": 6,
     "metadata": {},
     "output_type": "execute_result"
    }
   ],
   "source": [
    "vectorizer.get_feature_names_out() #Uso este método porque el get_feature_names no existe, supongo que por un tema de versión fue deprecado"
   ]
  },
  {
   "cell_type": "code",
   "execution_count": 7,
   "id": "fd80563a-be86-4a24-b82e-2659b8931c3c",
   "metadata": {
    "tags": []
   },
   "outputs": [
    {
     "name": "stdout",
     "output_type": "stream",
     "text": [
      "[[1 1 1 1 1 0 1]\n",
      " [1 1 1 0 0 1 0]]\n",
      "[1 1 1 1 1 0 1]\n",
      "1\n"
     ]
    }
   ],
   "source": [
    "print(X.toarray())\n",
    "print(X.toarray()[0])\n",
    "print(X.toarray()[1,2])"
   ]
  },
  {
   "cell_type": "code",
   "execution_count": 8,
   "id": "0725f712-0faa-4996-807e-3bcc3718d5a6",
   "metadata": {
    "tags": []
   },
   "outputs": [],
   "source": [
    "#Con una verdadera colección:\n",
    "from sklearn.datasets import fetch_20newsgroups"
   ]
  },
  {
   "cell_type": "code",
   "execution_count": 9,
   "id": "b7588c4a-c3e7-41d3-bfd5-501cb9519ee1",
   "metadata": {
    "tags": []
   },
   "outputs": [],
   "source": [
    "categories = ['alt.atheism', 'soc.religion.christian', 'comp.graphics','sci.med']\n",
    "twenty_train = fetch_20newsgroups(subset='train', categories=categories, shuffle=True, random_state=42)"
   ]
  },
  {
   "cell_type": "code",
   "execution_count": 10,
   "id": "f781ca43-a3a7-498c-8b0b-fdbde3281730",
   "metadata": {
    "tags": []
   },
   "outputs": [],
   "source": [
    "from sklearn.feature_extraction.text import CountVectorizer\n",
    "vectorizer = CountVectorizer()"
   ]
  },
  {
   "cell_type": "code",
   "execution_count": 11,
   "id": "31674049-cb44-45f8-adbe-aceeafd13f0c",
   "metadata": {
    "tags": []
   },
   "outputs": [],
   "source": [
    "train_counts = vectorizer.fit_transform(twenty_train.data)"
   ]
  },
  {
   "cell_type": "code",
   "execution_count": 12,
   "id": "d27983d8-00e8-48c7-8acd-21e3a7e2b3a7",
   "metadata": {
    "tags": []
   },
   "outputs": [
    {
     "data": {
      "text/plain": [
       "4690"
      ]
     },
     "execution_count": 12,
     "metadata": {},
     "output_type": "execute_result"
    }
   ],
   "source": [
    "vectorizer.vocabulary_.get('algorithm')"
   ]
  },
  {
   "cell_type": "code",
   "execution_count": 13,
   "id": "21273256-6b6e-4af1-9a25-98c14884e549",
   "metadata": {
    "tags": []
   },
   "outputs": [
    {
     "data": {
      "text/plain": [
       "35788"
      ]
     },
     "execution_count": 13,
     "metadata": {},
     "output_type": "execute_result"
    }
   ],
   "source": [
    "len(vectorizer.get_feature_names_out())"
   ]
  },
  {
   "cell_type": "code",
   "execution_count": 14,
   "id": "bbcf2c19-3d0d-4752-8b99-0d02793f50b0",
   "metadata": {
    "tags": []
   },
   "outputs": [
    {
     "data": {
      "text/plain": [
       "['a',\n",
       " 'about',\n",
       " 'above',\n",
       " 'across',\n",
       " 'after',\n",
       " 'afterwards',\n",
       " 'again',\n",
       " 'against',\n",
       " 'all',\n",
       " 'almost',\n",
       " 'alone',\n",
       " 'along',\n",
       " 'already',\n",
       " 'also',\n",
       " 'although',\n",
       " 'always',\n",
       " 'am',\n",
       " 'among',\n",
       " 'amongst',\n",
       " 'amoungst']"
      ]
     },
     "execution_count": 14,
     "metadata": {},
     "output_type": "execute_result"
    }
   ],
   "source": [
    "vectorizer = CountVectorizer(stop_words = \"english\")\n",
    "sorted(vectorizer.get_stop_words())[:20]"
   ]
  },
  {
   "cell_type": "markdown",
   "id": "d6b571ec-c956-4a8e-b20c-dcb2e3375187",
   "metadata": {},
   "source": [
    "**Preprocesamiento más avanzado con NLTK**"
   ]
  },
  {
   "cell_type": "code",
   "execution_count": 15,
   "id": "e13db3fc-2f0a-477d-86f1-68d2c429c8dd",
   "metadata": {
    "tags": []
   },
   "outputs": [],
   "source": [
    "import nltk\n",
    "s = nltk.stem.SnowballStemmer('english')"
   ]
  },
  {
   "cell_type": "code",
   "execution_count": 16,
   "id": "007fd269-1890-4e7d-8ca4-9d3e375d2304",
   "metadata": {
    "tags": []
   },
   "outputs": [
    {
     "name": "stdout",
     "output_type": "stream",
     "text": [
      "cat\n",
      "love\n"
     ]
    }
   ],
   "source": [
    "print(s.stem('cats'))\n",
    "print(s.stem('loving'))"
   ]
  },
  {
   "cell_type": "code",
   "execution_count": 17,
   "id": "523997e0-3464-4d55-9020-3d7350ef027a",
   "metadata": {
    "tags": []
   },
   "outputs": [
    {
     "name": "stderr",
     "output_type": "stream",
     "text": [
      "[nltk_data] Downloading package punkt to /home/juan/nltk_data...\n",
      "[nltk_data]   Package punkt is already up-to-date!\n"
     ]
    },
    {
     "data": {
      "text/plain": [
       "True"
      ]
     },
     "execution_count": 17,
     "metadata": {},
     "output_type": "execute_result"
    }
   ],
   "source": [
    "from nltk.tokenize import word_tokenize\n",
    "nltk.download('punkt')"
   ]
  },
  {
   "cell_type": "code",
   "execution_count": 18,
   "id": "61edc1b2-82bd-42a8-bc9d-cf7a419bac6d",
   "metadata": {
    "tags": []
   },
   "outputs": [],
   "source": [
    "text = word_tokenize(\"And now for something completely different\")"
   ]
  },
  {
   "cell_type": "code",
   "execution_count": 19,
   "id": "696290f9-a0c9-484c-b428-e9f7eb02c1cd",
   "metadata": {
    "tags": []
   },
   "outputs": [
    {
     "name": "stderr",
     "output_type": "stream",
     "text": [
      "[nltk_data] Downloading package averaged_perceptron_tagger to\n",
      "[nltk_data]     /home/juan/nltk_data...\n",
      "[nltk_data]   Package averaged_perceptron_tagger is already up-to-\n",
      "[nltk_data]       date!\n",
      "[nltk_data] Downloading package maxent_treebank_pos_tagger to\n",
      "[nltk_data]     /home/juan/nltk_data...\n",
      "[nltk_data]   Package maxent_treebank_pos_tagger is already up-to-\n",
      "[nltk_data]       date!\n"
     ]
    },
    {
     "data": {
      "text/plain": [
       "[('And', 'CC'),\n",
       " ('now', 'RB'),\n",
       " ('for', 'IN'),\n",
       " ('something', 'NN'),\n",
       " ('completely', 'RB'),\n",
       " ('different', 'JJ')]"
      ]
     },
     "execution_count": 19,
     "metadata": {},
     "output_type": "execute_result"
    }
   ],
   "source": [
    "nltk.download('averaged_perceptron_tagger')\n",
    "nltk.download('maxent_treebank_pos_tagger')\n",
    "nltk.pos_tag(text)"
   ]
  },
  {
   "cell_type": "markdown",
   "id": "dcde7c7a-e889-41ca-8c2c-2d0628e118ea",
   "metadata": {},
   "source": [
    "**Integración de NLTK con Scikit-learn**"
   ]
  },
  {
   "cell_type": "code",
   "execution_count": 20,
   "id": "48e58b2f-867c-4158-93b6-0485ed90a7f9",
   "metadata": {
    "tags": []
   },
   "outputs": [
    {
     "data": {
      "text/plain": [
       "['john', 'bought', 'carrots', 'potatoes']"
      ]
     },
     "execution_count": 20,
     "metadata": {},
     "output_type": "execute_result"
    }
   ],
   "source": [
    "from sklearn.feature_extraction.text import CountVectorizer\n",
    "vectorizer = CountVectorizer(stop_words = 'english')\n",
    "analyze = vectorizer.build_analyzer()\n",
    "analyze(\"John bought carrots and potatoes\")"
   ]
  },
  {
   "cell_type": "code",
   "execution_count": 21,
   "id": "ffbbe763-9a3a-49f0-aa9b-58f41d91d713",
   "metadata": {
    "tags": []
   },
   "outputs": [],
   "source": [
    "#Modificar build_analyzer tal que dentro aplice el stemmer\n",
    "import nltk.stem\n",
    "english_stemmer = nltk.stem.SnowballStemmer('english')\n",
    "\n",
    "class StemmedCountVectorizer(CountVectorizer):\n",
    "    def build_analyzer(self):\n",
    "        analyzer = super(StemmedCountVectorizer, self).build_analyzer()\n",
    "        return lambda doc: (english_stemmer.stem(w) for w in analyzer(doc))"
   ]
  },
  {
   "cell_type": "code",
   "execution_count": 22,
   "id": "7276e29a-b8e5-4ecb-9c7c-612ff1f19e36",
   "metadata": {
    "tags": []
   },
   "outputs": [],
   "source": [
    "stem_vectorizer = StemmedCountVectorizer(min_df=1,stop_words='english')\n",
    "stem_analyze = stem_vectorizer.build_analyzer()"
   ]
  },
  {
   "cell_type": "code",
   "execution_count": 23,
   "id": "36c3cf60-bc41-49a5-8ffd-7494ce568f0f",
   "metadata": {
    "tags": []
   },
   "outputs": [
    {
     "name": "stdout",
     "output_type": "stream",
     "text": [
      "john\n",
      "bought\n",
      "carrot\n",
      "potato\n"
     ]
    }
   ],
   "source": [
    "Y = stem_analyze(\"John bought carrots and potatoes\")\n",
    "for tok in Y:\n",
    "    print(tok)"
   ]
  },
  {
   "cell_type": "code",
   "execution_count": 24,
   "id": "c74842e6-81ab-4542-befb-ef34bc8d5a17",
   "metadata": {
    "tags": []
   },
   "outputs": [
    {
     "data": {
      "text/plain": [
       "26888"
      ]
     },
     "execution_count": 24,
     "metadata": {},
     "output_type": "execute_result"
    }
   ],
   "source": [
    "#Usándolo en el subconjunto del dataset 20_Newsgroups\n",
    "from sklearn.datasets import fetch_20newsgroups\n",
    "categories = ['alt.atheism','soc.religion.christian','comp.graphics', 'sci.med']\n",
    "twenty_train = fetch_20newsgroups(subset='train', categories=categories, shuffle=True,random_state=42)\n",
    "train_counts = stem_vectorizer.fit_transform(twenty_train.data)\n",
    "len(stem_vectorizer.get_feature_names_out())"
   ]
  },
  {
   "cell_type": "markdown",
   "id": "e367858c-989e-404f-9165-200fb9a1d050",
   "metadata": {},
   "source": [
    "Hay una diferencia de cerca de 10000 features"
   ]
  },
  {
   "cell_type": "markdown",
   "id": "3ccef102-e571-4e71-8ace-f3e0ca7e1cd3",
   "metadata": {},
   "source": [
    "**Implementación de CountVectorizer en español**"
   ]
  },
  {
   "cell_type": "code",
   "execution_count": 25,
   "id": "454993e6-6f3c-4630-a9e4-96f5d4c138a4",
   "metadata": {
    "tags": []
   },
   "outputs": [],
   "source": [
    "import nltk.stem\n",
    "spanish_stemmer = nltk.stem.SnowballStemmer('spanish')\n",
    "\n",
    "class SpanishStemmedCountVectorizer(CountVectorizer):\n",
    "    def build_analyzer(self):\n",
    "        analyzer = super(SpanishStemmedCountVectorizer, self).build_analyzer()\n",
    "        return lambda doc: (spanish_stemmer.stem(w) for w in analyzer(doc))"
   ]
  },
  {
   "cell_type": "code",
   "execution_count": 26,
   "id": "f17b72b2-2cfd-471c-aaa1-d59f4073c9e3",
   "metadata": {
    "tags": []
   },
   "outputs": [
    {
     "name": "stdout",
     "output_type": "stream",
     "text": [
      "llam\n",
      "juan\n",
      "decid\n",
      "sal\n",
      "corr\n",
      "bosqu\n",
      "palerm\n",
      "manuelit\n",
      "viv\n",
      "pehuaj\n",
      "dia\n",
      "march\n"
     ]
    }
   ],
   "source": [
    "import nltk.corpus\n",
    "\n",
    "stem_vectorizer = SpanishStemmedCountVectorizer(min_df=1,stop_words=nltk.corpus.stopwords.words('spanish'))\n",
    "stem_analyze = stem_vectorizer.build_analyzer()\n",
    "\n",
    "Y = stem_analyze(\"Me llamo Juan y decidí salir a correr por los bosques de Palermo.\")\n",
    "for tok in Y:\n",
    "    print(tok)\n",
    "    \n",
    "Y = stem_analyze(\"Manuelita vivía en Pehuajó, pero un día se marchó.\")\n",
    "for tok in Y:\n",
    "    print(tok)"
   ]
  },
  {
   "cell_type": "code",
   "execution_count": 27,
   "id": "81a7216f-e089-4e72-ae5d-cc17131cbf35",
   "metadata": {
    "tags": []
   },
   "outputs": [
    {
     "data": {
      "text/plain": [
       "13963"
      ]
     },
     "execution_count": 27,
     "metadata": {},
     "output_type": "execute_result"
    }
   ],
   "source": [
    "#Importando un corpus en español\n",
    "from nltk.corpus import cess_esp\n",
    "\n",
    "train_counts = stem_vectorizer.fit_transform(cess_esp.words())\n",
    "len(stem_vectorizer.get_feature_names_out())"
   ]
  },
  {
   "cell_type": "code",
   "execution_count": null,
   "id": "dc44922b-5ba4-405a-b8fc-532a001813aa",
   "metadata": {},
   "outputs": [],
   "source": []
  }
 ],
 "metadata": {
  "kernelspec": {
   "display_name": "Python [conda env:nlp] *",
   "language": "python",
   "name": "conda-env-nlp-py"
  },
  "language_info": {
   "codemirror_mode": {
    "name": "ipython",
    "version": 3
   },
   "file_extension": ".py",
   "mimetype": "text/x-python",
   "name": "python",
   "nbconvert_exporter": "python",
   "pygments_lexer": "ipython3",
   "version": "3.11.4"
  }
 },
 "nbformat": 4,
 "nbformat_minor": 5
}
