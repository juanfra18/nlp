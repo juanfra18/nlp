{
 "cells": [
  {
   "cell_type": "markdown",
   "id": "e734511c-2679-4168-b125-fb5e5d2d07d1",
   "metadata": {},
   "source": [
    "**Fuentes**\n",
    "- https://docs.python.org/2/library/stdtypes.html#string-methods\n",
    "- https://web.stanford.edu/~jurafsky/slp3/2.pdf\n",
    "- https://web.stanford.edu/~jurafsky/slp3/3.pdf"
   ]
  },
  {
   "cell_type": "code",
   "execution_count": 1,
   "id": "65b37c72-4353-430b-a2d6-79fbfd1e426a",
   "metadata": {
    "tags": []
   },
   "outputs": [
    {
     "name": "stdout",
     "output_type": "stream",
     "text": [
      "*** Introductory Examples for the NLTK Book ***\n",
      "Loading text1, ..., text9 and sent1, ..., sent9\n",
      "Type the name of the text or sentence to view it.\n",
      "Type: 'texts()' or 'sents()' to list the materials.\n",
      "text1: Moby Dick by Herman Melville 1851\n",
      "text2: Sense and Sensibility by Jane Austen 1811\n",
      "text3: The Book of Genesis\n",
      "text4: Inaugural Address Corpus\n",
      "text5: Chat Corpus\n",
      "text6: Monty Python and the Holy Grail\n",
      "text7: Wall Street Journal\n",
      "text8: Personals Corpus\n",
      "text9: The Man Who Was Thursday by G . K . Chesterton 1908\n"
     ]
    }
   ],
   "source": [
    "#Setup:\n",
    "from nltk.book import *\n",
    "from nltk import re\n",
    "def nopunct_lowercase(tokens):\n",
    "    return [word.lower() for word in tokens if re.search(\"\\w\",word)]\n",
    "\n",
    "def count_word_in_corpus(word, corpus):\n",
    "    return len([token for token in corpus if token == word])"
   ]
  },
  {
   "cell_type": "code",
   "execution_count": 2,
   "id": "12c2950b-3441-4220-8571-33b4f835f37f",
   "metadata": {
    "tags": []
   },
   "outputs": [
    {
     "name": "stdout",
     "output_type": "stream",
     "text": [
      "MOBY DICK\n",
      "Número de tokens: 218621\n",
      "Número de types: 17140\n",
      "Type-token ratio: 0.07840051962071347\n"
     ]
    }
   ],
   "source": [
    "mb_tokens = text1.tokens\n",
    "mb_tokens_nopunct_lowercase = nopunct_lowercase(mb_tokens)\n",
    "\n",
    "print(\"MOBY DICK\")\n",
    "#1. Número de tokens en Moby Dick:\n",
    "mb_nro_tokens = len(mb_tokens_nopunct_lowercase)\n",
    "print(f\"Número de tokens: {mb_nro_tokens}\") \n",
    "#2. Número de types en Moby Dick (palabras únicas)\n",
    "mb_nro_types = len(set(mb_tokens_nopunct_lowercase))\n",
    "print(f\"Número de types: {mb_nro_types}\")\n",
    "#3. Type-token ratio en Moby Dick\n",
    "mb_type_token = mb_nro_types/mb_nro_tokens\n",
    "print(f\"Type-token ratio: {mb_type_token}\")"
   ]
  },
  {
   "cell_type": "code",
   "execution_count": 3,
   "id": "33aaf12b-9108-4da3-8969-7a6bd1ebf530",
   "metadata": {
    "tags": []
   },
   "outputs": [
    {
     "name": "stdout",
     "output_type": "stream",
     "text": [
      "WALL STREET JOURNAL\n",
      "Type-token ratio: 0.129748424801388\n"
     ]
    }
   ],
   "source": [
    "wsj_tokens = text7.tokens\n",
    "wsj_tokens_nopunct_lowercase = nopunct_lowercase(wsj_tokens)\n",
    "\n",
    "print(\"WALL STREET JOURNAL\")\n",
    "#4. Type-token ratio en Wall Street Journal\n",
    "wsj_type_token = len(set(wsj_tokens_nopunct_lowercase))/len(wsj_tokens_nopunct_lowercase)\n",
    "print(f\"Type-token ratio: {wsj_type_token}\")"
   ]
  },
  {
   "cell_type": "code",
   "execution_count": 4,
   "id": "84864b24-149b-4d38-9f5c-809f6ac74aec",
   "metadata": {
    "tags": []
   },
   "outputs": [
    {
     "name": "stdout",
     "output_type": "stream",
     "text": [
      "El corpus de mayor diversidad léxica es: Wall Street Journal\n"
     ]
    }
   ],
   "source": [
    "#5. ¿Cuál de los dos tiene mayor diversidad léxica?\n",
    "corpus_mas_diverso = \"Wall Street Journal\" if wsj_type_token > mb_type_token else \"Moby Dick\"\n",
    "print(f\"El corpus de mayor diversidad léxica es: {corpus_mas_diverso}\")"
   ]
  },
  {
   "cell_type": "markdown",
   "id": "d227530f-1101-4c7e-9c4c-7c1c5593a9b2",
   "metadata": {},
   "source": [
    "**6. ¿Puede pensar una razón por la cuál ese corpus es más diverso que el otro?**\n",
    "Al ser un periódico, que explora varios temas, me parece natural que posea una mayor variedad de palabras distintas que una novela."
   ]
  },
  {
   "cell_type": "code",
   "execution_count": 5,
   "id": "29038852-8628-48a0-a76b-aede41aaa7c4",
   "metadata": {
    "tags": []
   },
   "outputs": [
    {
     "name": "stdout",
     "output_type": "stream",
     "text": [
      "P_mobydick('whale') = 1226\n"
     ]
    }
   ],
   "source": [
    "#7. ¿Cual es el “Maximum Likelikhood Estimate (MLE)” de la palabra “whale” (ballena) en Moby Dick?\n",
    "mb_count_whale = count_word_in_corpus(\"whale\", mb_tokens_nopunct_lowercase)\n",
    "print(f\"P_mobydick('whale') = {mb_count_whale}\")"
   ]
  },
  {
   "cell_type": "code",
   "execution_count": 6,
   "id": "5e4c3cf1-05f9-43dc-a417-a11f937bbef5",
   "metadata": {
    "tags": []
   },
   "outputs": [
    {
     "name": "stdout",
     "output_type": "stream",
     "text": [
      "P_wsj('whale') = 0\n"
     ]
    }
   ],
   "source": [
    "#8. ¿Cuál es el MLE de “whale” en el corpus de WSJ?\n",
    "wsj_count_whale = count_word_in_corpus(\"whale\", wsj_tokens_nopunct_lowercase)\n",
    "print(f\"P_wsj('whale') = {wsj_count_whale}\")"
   ]
  },
  {
   "cell_type": "code",
   "execution_count": null,
   "id": "081951a2-5768-4e87-97b4-2804e2ace92a",
   "metadata": {},
   "outputs": [],
   "source": []
  }
 ],
 "metadata": {
  "kernelspec": {
   "display_name": "Python [conda env:nlp] *",
   "language": "python",
   "name": "conda-env-nlp-py"
  },
  "language_info": {
   "codemirror_mode": {
    "name": "ipython",
    "version": 3
   },
   "file_extension": ".py",
   "mimetype": "text/x-python",
   "name": "python",
   "nbconvert_exporter": "python",
   "pygments_lexer": "ipython3",
   "version": "3.11.4"
  }
 },
 "nbformat": 4,
 "nbformat_minor": 5
}
