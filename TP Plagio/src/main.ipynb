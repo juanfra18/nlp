{
 "cells": [
  {
   "cell_type": "markdown",
   "id": "5bb7d4e1-aa48-4517-b622-a4c3bdf4acbb",
   "metadata": {},
   "source": [
    "**Importar módulos**"
   ]
  },
  {
   "cell_type": "code",
   "execution_count": 1,
   "id": "d795379f-eecf-438f-bf5b-4319d0971d67",
   "metadata": {},
   "outputs": [],
   "source": [
    "from reader import file_reader\n",
    "nltk.download('cess_esp')"
   ]
  },
  {
   "cell_type": "markdown",
   "id": "3f11183b-3cfd-478b-99ab-9256e472115b",
   "metadata": {},
   "source": [
    "**Entrenamiento**\n",
    "\n",
    "La función train model preprocesa cada texto y lo guarda en un objeto llamado model que tiene:\n",
    "- Profesores\n",
    "- Títulos/temas de los tp\n",
    "- TPs, que a su vez tienen:\n",
    "    - Nombre de archivo\n",
    "    - Texto\n",
    "    \n",
    "El entrenamiento es el motivo por el que hago esto en un notebook"
   ]
  },
  {
   "cell_type": "code",
   "execution_count": 3,
   "id": "e1c64cc6-6630-4918-824d-d31405e4b777",
   "metadata": {
    "tags": []
   },
   "outputs": [],
   "source": [
    "#model = train_model()"
   ]
  },
  {
   "cell_type": "markdown",
   "id": "f636d9d9-d847-43d6-986f-8cebae0b7ec1",
   "metadata": {},
   "source": [
    "**Analizado devuelve un objeto analisis, que tiene la data a mostrar y las frases repetidas:**\n",
    "- Nombre\n",
    "- Título\n",
    "- Profesores\n",
    "- Autores\n",
    "- Porcentaje de plagio (0..1)\n",
    "- Coincidencias"
   ]
  },
  {
   "cell_type": "code",
   "execution_count": 4,
   "id": "7465a756-83ea-4c90-a117-0f90e1ee7e8d",
   "metadata": {
    "tags": []
   },
   "outputs": [],
   "source": [
    "nuevo_archivo = \"\"\n",
    "#analizado = comparar_archivo(nuevo_archivo, model)"
   ]
  },
  {
   "cell_type": "markdown",
   "id": "a21c7a83-7a91-4e28-ab4e-8dd7cbe7ce1f",
   "metadata": {
    "tags": []
   },
   "source": [
    "**Mostrar lo que pide la consigna**"
   ]
  },
  {
   "cell_type": "code",
   "execution_count": 5,
   "id": "a5295212-e603-4db5-84b1-2f817744286e",
   "metadata": {
    "tags": []
   },
   "outputs": [],
   "source": [
    "#mostrar_data(analizado)"
   ]
  }
 ],
 "metadata": {
  "kernelspec": {
   "display_name": "Python [conda env:nlp] *",
   "language": "python",
   "name": "conda-env-nlp-py"
  },
  "language_info": {
   "codemirror_mode": {
    "name": "ipython",
    "version": 3
   },
   "file_extension": ".py",
   "mimetype": "text/x-python",
   "name": "python",
   "nbconvert_exporter": "python",
   "pygments_lexer": "ipython3",
   "version": "3.11.4"
  }
 },
 "nbformat": 4,
 "nbformat_minor": 5
}
