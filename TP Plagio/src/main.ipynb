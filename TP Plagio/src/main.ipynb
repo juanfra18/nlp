{
 "cells": [
  {
   "cell_type": "markdown",
   "id": "5bb7d4e1-aa48-4517-b622-a4c3bdf4acbb",
   "metadata": {},
   "source": [
    "**Importar módulos y definir constantes**"
   ]
  },
  {
   "cell_type": "code",
   "execution_count": 1,
   "id": "d795379f-eecf-438f-bf5b-4319d0971d67",
   "metadata": {},
   "outputs": [
    {
     "name": "stderr",
     "output_type": "stream",
     "text": [
      "[nltk_data] Downloading package cess_esp to /home/juan/nltk_data...\n",
      "[nltk_data]   Package cess_esp is already up-to-date!\n"
     ]
    }
   ],
   "source": [
    "from trainer import train_model\n",
    "from comparison import comparar_archivo, mostrar_data\n",
    "\n",
    "dataset_path = \"../minidataset\"\n",
    "nuevo_archivo = \"../minidataset/TP2 V1.docx\"\n"
   ]
  },
  {
   "cell_type": "markdown",
   "id": "3f11183b-3cfd-478b-99ab-9256e472115b",
   "metadata": {
    "tags": []
   },
   "source": [
    "**Entrenamiento**\n",
    "\n",
    "La función train model preprocesa cada texto y lo guarda en un objeto llamado model que tiene:\n",
    "- Profesores\n",
    "- TPs, una lista de diccionarios con las keys:\n",
    "    - filename\n",
    "    - text"
   ]
  },
  {
   "cell_type": "code",
   "execution_count": 2,
   "id": "e1c64cc6-6630-4918-824d-d31405e4b777",
   "metadata": {
    "tags": []
   },
   "outputs": [],
   "source": [
    "model = train_model(dataset_path)"
   ]
  },
  {
   "cell_type": "markdown",
   "id": "f636d9d9-d847-43d6-986f-8cebae0b7ec1",
   "metadata": {
    "tags": []
   },
   "source": [
    "**Analizado devuelve un objeto analisis, que tiene la información a mostrar y las frases repetidas:**\n",
    "- Nombre del archivo\n",
    "- Título del trabajo\n",
    "- Profesores\n",
    "- Autores\n",
    "- Porcentaje de plagio\n",
    "- Coincidencias"
   ]
  },
  {
   "cell_type": "code",
   "execution_count": 3,
   "id": "7465a756-83ea-4c90-a117-0f90e1ee7e8d",
   "metadata": {
    "tags": []
   },
   "outputs": [],
   "source": [
    "analizado = comparar_archivo(nuevo_archivo, model)"
   ]
  },
  {
   "cell_type": "markdown",
   "id": "a21c7a83-7a91-4e28-ab4e-8dd7cbe7ce1f",
   "metadata": {
    "tags": []
   },
   "source": [
    "**Mostrar lo que pide la consigna**"
   ]
  },
  {
   "cell_type": "code",
   "execution_count": 4,
   "id": "a5295212-e603-4db5-84b1-2f817744286e",
   "metadata": {
    "tags": []
   },
   "outputs": [
    {
     "name": "stdout",
     "output_type": "stream",
     "text": [
      "Nombre del archivo: TP2 V1.docx\n",
      "Título del trabajo: marketing en internet y nueva economía\n",
      "Profesores: alejandro prince\n",
      "Autores:  alejandro rossi\n",
      "Porcentaje de plagio: 2.7032046385038977%\n",
      "Conclusión: no hubo plagio\n"
     ]
    }
   ],
   "source": [
    "mostrar_data(analizado)"
   ]
  },
  {
   "cell_type": "code",
   "execution_count": null,
   "id": "1a2d8f92-7335-434f-87ab-e617b53a58c7",
   "metadata": {},
   "outputs": [],
   "source": []
  }
 ],
 "metadata": {
  "kernelspec": {
   "display_name": "Python [conda env:nlp] *",
   "language": "python",
   "name": "conda-env-nlp-py"
  },
  "language_info": {
   "codemirror_mode": {
    "name": "ipython",
    "version": 3
   },
   "file_extension": ".py",
   "mimetype": "text/x-python",
   "name": "python",
   "nbconvert_exporter": "python",
   "pygments_lexer": "ipython3",
   "version": "3.11.4"
  }
 },
 "nbformat": 4,
 "nbformat_minor": 5
}
