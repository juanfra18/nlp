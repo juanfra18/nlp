{
 "cells": [
  {
   "cell_type": "markdown",
   "id": "5bb7d4e1-aa48-4517-b622-a4c3bdf4acbb",
   "metadata": {},
   "source": [
    "**Importar módulos**"
   ]
  },
  {
   "cell_type": "code",
   "execution_count": 1,
   "id": "d795379f-eecf-438f-bf5b-4319d0971d67",
   "metadata": {},
   "outputs": [
    {
     "name": "stderr",
     "output_type": "stream",
     "text": [
      "[nltk_data] Downloading package cess_esp to /home/juan/nltk_data...\n",
      "[nltk_data]   Package cess_esp is already up-to-date!\n"
     ]
    }
   ],
   "source": [
    "from trainer import train_model\n",
    "from comparison import comparar_archivo, mostrar_data"
   ]
  },
  {
   "cell_type": "markdown",
   "id": "3f11183b-3cfd-478b-99ab-9256e472115b",
   "metadata": {},
   "source": [
    "**Entrenamiento**\n",
    "\n",
    "La función train model preprocesa cada texto y lo guarda en un objeto llamado model que tiene:\n",
    "- Profesores\n",
    "- Títulos/temas de los tp\n",
    "- TPs, que a su vez tienen:\n",
    "    - Nombre de archivo\n",
    "    - Texto\n",
    "    \n",
    "El entrenamiento es el motivo por el que hago esto en un notebook"
   ]
  },
  {
   "cell_type": "code",
   "execution_count": 2,
   "id": "e1c64cc6-6630-4918-824d-d31405e4b777",
   "metadata": {
    "tags": []
   },
   "outputs": [],
   "source": [
    "dataset_path = \"../minidataset\"\n",
    "model = train_model(dataset_path)"
   ]
  },
  {
   "cell_type": "markdown",
   "id": "f636d9d9-d847-43d6-986f-8cebae0b7ec1",
   "metadata": {},
   "source": [
    "**Analizado devuelve un objeto analisis, que tiene la data a mostrar y las frases repetidas:**\n",
    "- Nombre\n",
    "- Título\n",
    "- Profesores\n",
    "- Autores\n",
    "- Porcentaje de plagio (0..1)\n",
    "- Coincidencias"
   ]
  },
  {
   "cell_type": "code",
   "execution_count": 3,
   "id": "7465a756-83ea-4c90-a117-0f90e1ee7e8d",
   "metadata": {
    "tags": []
   },
   "outputs": [
    {
     "name": "stdout",
     "output_type": "stream",
     "text": [
      "alejandro\n"
     ]
    }
   ],
   "source": [
    "nuevo_archivo = \"../minidataset/TP2 V1.docx\"\n",
    "analizado = comparar_archivo(nuevo_archivo, model)"
   ]
  },
  {
   "cell_type": "markdown",
   "id": "a21c7a83-7a91-4e28-ab4e-8dd7cbe7ce1f",
   "metadata": {
    "tags": []
   },
   "source": [
    "**Mostrar lo que pide la consigna**"
   ]
  },
  {
   "cell_type": "code",
   "execution_count": 4,
   "id": "a5295212-e603-4db5-84b1-2f817744286e",
   "metadata": {
    "tags": []
   },
   "outputs": [
    {
     "name": "stdout",
     "output_type": "stream",
     "text": [
      "Nombre del archivo: TP2 V1.docx\n",
      "Título del trabajo: marketing en internet y nueva economía\n",
      "Profesores: \n",
      "Autores:  \n",
      "Porcentaje de plagio: 2.6554253753114265%\n",
      "Conclusión: no hubo plagio\n"
     ]
    }
   ],
   "source": [
    "mostrar_data(analizado)"
   ]
  },
  {
   "cell_type": "code",
   "execution_count": 5,
   "id": "e7af838d-3aa6-46e5-a5dc-1395a628e3bb",
   "metadata": {
    "tags": []
   },
   "outputs": [
    {
     "name": "stdout",
     "output_type": "stream",
     "text": [
      "Marketing en internet y nueva economía\n",
      "\n",
      "\n",
      "\n",
      "Universidad Tecnológica Nacional Facultad Regional Buenos Aires\n",
      "\n",
      "Ingeniería en Sistemas de Información\n",
      "\n",
      "\n",
      "\n",
      "TP 2\n",
      "\n",
      "16/09/2015\n",
      "\n",
      "\n",
      "\n",
      "Profesor: Alejandro Prince\t\n",
      "\n",
      "NOMBRE Y APELLIDO\n",
      "\n",
      "LEGAJO N°\n",
      "\n",
      "EMAIL CONTACTO\n",
      "\n",
      "Alejandro Rossi\n",
      "\n",
      "125180-6\n",
      "\n",
      "ajmrossi@gmail.com\n",
      "\n",
      "\n",
      "\n",
      "TP Marketing 4.0 - Phillip Kotler – Capítulos 1 y 4\n",
      "\n",
      "\n",
      "\n",
      "Preguntas:\n",
      "\n",
      "1.- Kotler destaca 3 grandes cambios económico-sociales fruto del efecto de internet y las TIC. Explique el primer cambio, “de exclusivo a inclusivo” diferenciando sus aspectos macro y micro.\n",
      "\n",
      "\n",
      "\n",
      "En el nivel macro, el mundo está pasando de una hegemonía a una\n",
      "\n",
      "estructura de poder multilateral. Las superpotencias, principalmente la Unión Europea y los Estados Unidos, se dan cuenta de que algunos poderes económicos se están desplazando al resto del mundo, sobre todo a Asia, que ha experimentado un crecimiento constante en los últimos años. Es importante notar que las superpotencias occidentales todavía serán poderosas; es solo que otras naciones están ganando más poder con el tiempo. Los poderes económicos ya no están concentrados, sino que están distribuidos de manera más uniforme.\n",
      "\n",
      "En un nivel más micro, los humanos están adoptando la inclusión social. Ser inclusivo no se trata de ser similar; se trata de vivir armoniosamente a pesar de las diferencias. En el mundo en línea, las redes sociales han redefinido la forma en que las personas interactúan entre sí, permitiendo a las personas construir relaciones sin barreras geográficas y demográficas.\n",
      "\n",
      "\n",
      "\n",
      " 2.- Explique el segundo cambio que según Kotler está produciendo la tecnología, la globalización y otras fuerzas. “De vertical a horizontal”. Explique su impacto en los flujos de innovación y en la confianza del consumidor.\n",
      "\n",
      "\n",
      "\n",
      "El flujo de innovación que una vez fue vertical (de las empresas al mercado) se ha vuelto horizontal.\n",
      "\n",
      "Hoy, la innovación es horizontal; el mercado suministra las ideas y las empresas comercializan las ideas\n",
      "\n",
      "Esta inclusión ahora permite a las empresas ingresar a industrias que de otro modo no habrían ingresado en el pasado. Esto proporciona oportunidades para que las empresas crezcan, pero plantea importantes amenazas competitivas. Debido a que las distinciones entre las industrias se están difuminando, será un gran desafío para las empresas realizar un seguimiento de sus competidores.\n",
      "\n",
      "Las empresas también deben hacer un seguimiento de los competidores desde fuera de sus mercados nacionales. Estos competidores no son necesariamente corporaciones multinacionales.\n",
      "\n",
      "El concepto de confianza del cliente ya no es vertical; ahora es horizontal Los clientes en el pasado fueron fácilmente influenciados por las campañas de marketing. También buscaron y escucharon la autoridad y la experiencia. Pero las investigaciones recientes en todas las industrias muestran que la mayoría de los clientes creen más en el factor f (amigos, familias, seguidores de Facebook, seguidores de Twitter) que en las comunicaciones de marketing. La mayoría le pide consejo a un extraño en las redes sociales y les confía más que publicidad y opiniones de expertos.\n",
      "\n",
      "\n",
      "\n",
      "3.- Que pasa con el control de la comunicación que tenían las marcas bajo el efecto del cambio “de individual a social”?\n",
      "\n",
      "\n",
      "\n",
      "Las empresas solían tener control sobre las comunicaciones de\n",
      "\n",
      "marketing, y solían manejar las quejas de los clientes de forma individual. Con el contenido generado por la comunidad, las empresas no tienen control sobre la conversación. Censurar el contenido debilitará la credibilidad. También deben estar preparados para reacciones sociales masivas cuando algo sale mal.\n",
      "\n",
      "Dicho esto, las compañías y marcas que tienen una reputación sólida y afirmaciones honestas sobre sus productos no deberían tener nada de qué preocuparse. Pero aquellos que hacen afirmaciones falsas y tienen productos pobres no sobrevivirán. Es prácticamente imposible ocultar fallas o aislar las quejas de los clientes en un mundo transparente y digital.\n",
      "\n",
      "\n",
      "\n",
      "4.- Pensando en Uber, trate de identificar ejemplos concretos de cómo se manifiestan los 3 cambios descriptos por Kotler en ese servicio/empresa.\n",
      "\n",
      "\n",
      "\n",
      "Gracias a internet y las aplicaciones las personas no dependen solo del servicio de taxi, o de una remiseria, con Uber cuentan con autos donde pueden conocer el buen servicio del chofer antes de confirmar, valiéndose de la reputación que el chofer gano de viajes anteriores. Pueden conocer el precio de antemano.\n",
      "\n",
      "\n",
      "\n",
      "5.- Según Kotler describa la evolución del Marketing 1.0 al 4.0\n",
      "\n",
      "\n",
      "\n",
      "el cambio principal del marketing impulsado por productos (1.0) al marketing centrado en el cliente (2.0) y finalmente al marketing centrado en el ser humano (3.0). Ahora queremos presentar Marketing 4.0. Marketing 4.0 es un enfoque de marketing que combina la interacción en línea y fuera de línea entre empresas y clientes. En la economía digital, la interacción digital por sí sola no es suficiente. De hecho, en un mundo cada vez más en línea, el tacto fuera de línea representa una fuerte diferenciación. Marketing 4.0 también combina el estilo con la sustancia. Si bien es imperativo que las marcas sean más flexibles y adaptables debido a las rápidas  tendencias tecnológicas, sus personajes auténticos son más importantes que nunca. En un mundo cada vez más transparente, la autenticidad es el activo más valioso. \n",
      "\n",
      "\n",
      "\n",
      "6.- Qué mejora o se fortalece con la conectividad “máquina a máquina” y qué con la conectividad “persona a persona” según Kotler?\n",
      "\n",
      "\n",
      "\n",
      "Finalmente, Marketing 4.0 aprovecha la conectividad de máquina a máquina y la inteligencia artificial para mejorar la productividad de marketing mientras aprovecha la conectividad de persona a persona para fortalecer el compromiso del cliente.\n",
      "\n",
      "\n",
      "\n",
      "7.- Explique la transformación de un marketing de segmentación a uno de comunidades, del cliente como “blanco” al permiso.\n",
      "\n",
      "\n",
      "\n",
      "Tradicionalmente, el marketing siempre comienza con la segmentación, una práctica de dividir el mercado en grupos homogéneos en función de sus perfiles geográficos, demográficos, psicográficos y conductuales. La segmentación suele ir seguida de la focalización, una práctica de selección de uno o más segmentos a los que se compromete una marca en función de su atractivo y adecuación a la marca. \n",
      "\n",
      "En la economía digital, los clientes están socialmente conectados entre sí en redes horizontales de comunidades. Hoy, las comunidades son los nuevos segmentos.\n",
      "\n",
      "A diferencia de los segmentos, las comunidades se forman naturalmente por los clientes dentro de los límites que ellos mismos definen. Las comunidades de clientes son inmunes a los correos basura y publicidad irrelevante. De hecho, rechazarán el intento de una empresa de abrirse camino en estas redes de relaciones.\n",
      "\n",
      "Para participar efectivamente con una comunidad de clientes, las marcas deben pedir permiso. El marketing de permisos, presentado por Seth Godin, gira en torno a esta idea de pedir el consentimiento de los clientes antes de enviar mensajes de marketing. Sin embargo, al pedir permiso, las marcas deben actuar como amigos con deseos sinceros de ayudar, no con cebos. De forma similar al mecanismo en Facebook, los clientes tendrán la decisión de “confirmar” o “ignorar” las solicitudesde amistad.\n",
      "\n",
      "\n",
      "\n",
      "8.- Describa el “posicionamiento” tradicional, ¿qué pasa ahora con la “promesa”?\n",
      "\n",
      "\n",
      "\n",
      "En un sentido tradicional, una marca es un conjunto de imágenes -con frecuencia un nombre, un logotipo y un eslogan- que distingue la oferta de productos o servicios de una empresa de la de sus competidores. También sirve como un depósito que almacena todo el valor generado por las campañas de marca de la compañía.\n",
      "\n",
      "El posicionamiento de la marca es esencialmente una promesa convincente que los profesionales del marketing transmiten para ganar las mentes y los corazones de los clientes. Para exhibir la verdadera integridad de la marca y ganar la confianza de los clientes, los mercadólogos deben cumplir esta promesa con una diferenciación sólida y concreta a través de su mezcla de marketing. En la economía digital, los clientes ahora cuentan con la capacidad y la capacidad para evaluar e incluso analizar la promesa de posicionamiento de marca de cualquier empresa. Con esta transparencia (debido al aumento de las redes sociales) las marcas ya no pueden hacer promesas falsas e\n",
      "\n",
      "imposibles de verificar. Las empresas pueden posicionarse como cualquier cosa, pero a menos que haya esencialmente un consenso impulsado por la comunidad, el posicionamiento no es más que una postura corporativa.\n",
      "\n",
      "\n",
      "\n",
      "9.- Describa la evolución del marketing mix, de las 4 P (producto, precio, plaza o lugar y promoción o impulsión, hacia las 4 C (Co-Creación, Currency -moneda, activación Comunal y Conversación)\n",
      "\n",
      "\n",
      "\n",
      "Esencialmente, hay cuatro P’s: producto, precio, lugar y promoción. El producto a menudo\n",
      "\n",
      "se desarrolla en función de las necesidades y los deseos de los clientes, capturados a través de estudios de mercado. Las empresas controlan la mayoría de las decisiones de productos desde la concepción hasta la producción. Para establecer un precio de venta del producto, las compañías usan una combinación de costo basado en competencia y cliente valor-métodos de precios basados La disposición a pagar de los clientes, estimada en precios basados en el valor del consumidor, es la contribución más importante que los clientes tienen en relación con los precios. Una vez que las empresas deciden qué ofrecer (producto y precio), deben decidir cómo ofrecer (lugar y promoción). Las empresas deben determinar dónde distribuir el producto con el objetivo de hacerlo más accesible y accesible para los clientes. Las empresas también deben comunicar la información sobre el producto al público objetivo a través de diversos métodos, como publicidad, relaciones públicas y promociones de ventas. Cuando las cuatro P del marketing mix se diseñan y\n",
      "\n",
      "alinean de manera óptima, la venta se vuelve menos desafiante a medida que los clientes se sienten atraídos por las propuestas de valor. En un mundo conectado, el concepto de marketing mix evolucionó para dar cabida a una mayor participación de los clientes. La combinación de marketing (las cuatro P) debe redefinirse como las cuatro C (co-creación, moneda, activación comunal y conversación). En la economía digital, la co-creación es la nueva estrategia de desarrollo de productos. A través de la co-creación y la participación de los clientes desde el principio de la etapa de ideación, las empresas pueden mejorar la tasa de éxito del desarrollo de nuevos productos. La co-creación también permite a los clientes personalizar y personalizar productos y servicios, creando propuestas de valor superiores.\n",
      "\n",
      "El concepto de fijación de precios también está evolucionando en la era digital desde la fijación de precios estandarizada a la dinámica. El establecimiento de precios dinámicos, precios flexibles basados en la demanda del mercado y la utilización de la capacidad, no es algo nuevo en algunas industrias, como la hotelería y las aerolíneas.\n",
      "\n",
      "El concepto de canal también está cambiando. En la economía colaborativa, el concepto de distribución más potente es la distribución punto a punto. Jugadores como Airbnb, Uber, Zipcar y Lending Club están alterando las industrias hotelera, de taxis, de alquiler de autos y bancaria, respectivamente. Brindan a los clientes un acceso fácil a productos y servicios que no son propiedad de ellos, sino de otros clientes.\n",
      "\n",
      "El concepto de promoción también ha evolucionado en los últimos años. Tradicionalmente, la promoción siempre ha sido un asunto unilateral, con empresas que envían mensajes a clientes como público. Hoy, la proliferación de redes sociales les permite a los clientes responder a esos mensajes. También permite a los clientes conversar sobre los mensajes con otros clientes\n",
      "\n",
      "\n",
      "\n",
      "10.- El marketing 4.0 es un marketing “en línea” (online) puramente digital?   \n",
      "\n",
      "\n",
      "\n",
      "  La esencia de Marketing 4.0 es reconocer los roles cambiantes del marketing tradicional y digital en la construcción del compromiso y la promoción del cliente.\n",
      "\n",
      "Marketing 4.0 es un enfoque de marketing que combina la interacción en línea y fuera de línea entre empresas y clientes, combina el estilo con la sustancia en la creación de marcas y, en última instancia, complementa la conectividad máquina a máquina con un toque de persona a persona para fortalecer la participación del cliente. Ayuda a los especialistas en marketing a realizar la transición a la economía digital, lo que ha redefinido los conceptos clave del marketing. El marketing digital y el marketing tradicional están destinados a coexistir en Marketing 4.0 con el objetivo final de ganar la defensa del cliente.\n",
      "\n",
      "  \n",
      "\n",
      "\n",
      "\n",
      "\t\tPágina  de\n"
     ]
    }
   ],
   "source": [
    "from reader import file_reader\n",
    "print(file_reader(nuevo_archivo))"
   ]
  },
  {
   "cell_type": "code",
   "execution_count": null,
   "id": "61129045-a828-4279-8a22-16614737355c",
   "metadata": {},
   "outputs": [],
   "source": []
  }
 ],
 "metadata": {
  "kernelspec": {
   "display_name": "Python [conda env:nlp] *",
   "language": "python",
   "name": "conda-env-nlp-py"
  },
  "language_info": {
   "codemirror_mode": {
    "name": "ipython",
    "version": 3
   },
   "file_extension": ".py",
   "mimetype": "text/x-python",
   "name": "python",
   "nbconvert_exporter": "python",
   "pygments_lexer": "ipython3",
   "version": "3.11.4"
  }
 },
 "nbformat": 4,
 "nbformat_minor": 5
}
